{
 "cells": [
  {
   "cell_type": "code",
   "execution_count": 5,
   "metadata": {},
   "outputs": [],
   "source": [
    "# use conda enviroment \"general\" to run this script\n",
    "\n",
    "from replace_TG_but_maintain_same_GC_content import * "
   ]
  },
  {
   "cell_type": "code",
   "execution_count": 8,
   "metadata": {},
   "outputs": [],
   "source": [
    "# upstream ELK1 3'-UTR -> oPools_1\n",
    "upstream_ELK1_3_prime_UTR = 'CAAAAGACTCCTGGGCTCACCTGTTAGCGCTGGCCCAGCCCAGGCCTTGGGACCTGGGGGTTGGTGATTTGGGGGACAGTGCTACACTCGTCTCCACTGTTTGTTTTACTTCCCCAAAATGGACCTTTTTTTTTTCTAAAGAGTCCCAGAGAATGGGGAATTGTTCCTGTAAATATATATTTTTCAAAGTGA'\n",
    "upstream_Gibson_assembly_overlapping = 'CAAAAGACTCCTGGGCTCACCTGTTAGC'\n",
    "downstream_Gibson_assembly_overlapping = 'TCCTGTAAATATATATTTTTCAAAGTGA'\n",
    "\n",
    "sequence_for_replacing = upstream_ELK1_3_prime_UTR.replace(upstream_Gibson_assembly_overlapping, '').replace(downstream_Gibson_assembly_overlapping, '')\n",
    "#print(sequence_for_replacing)\n",
    "\n",
    "n  = sequence_for_replacing.count('TG')"
   ]
  },
  {
   "cell_type": "code",
   "execution_count": 9,
   "metadata": {},
   "outputs": [
    {
     "name": "stdout",
     "output_type": "stream",
     "text": [
      "CAAAAGACTCCTGGGCTCACCTGTTAGCGCACGCCCAGCCCAGGCCTAGGGACCAAGGGGTACGCAATTCGGGGGACAGCTCTACACTCGTCTCCACACTTTTTTTTACTTCCCCAAAAGCGACCTTTTTTTTTTCTAAAGAGTCCCAGAGAATCGGGAATTCTTCCTGTAAATATATATTTTTCAAAGTGA\n"
     ]
    }
   ],
   "source": [
    "replaced_sequence = replace_TG_but_maintain_same_GC_content(sequence_for_replacing, n)\n",
    "\n",
    "UG_removed_upstream_ELK1_3_prime_UTR = upstream_Gibson_assembly_overlapping + replaced_sequence + downstream_Gibson_assembly_overlapping\n",
    "\n",
    "print(UG_removed_upstream_ELK1_3_prime_UTR)"
   ]
  }
 ],
 "metadata": {
  "kernelspec": {
   "display_name": "general",
   "language": "python",
   "name": "python3"
  },
  "language_info": {
   "codemirror_mode": {
    "name": "ipython",
    "version": 3
   },
   "file_extension": ".py",
   "mimetype": "text/x-python",
   "name": "python",
   "nbconvert_exporter": "python",
   "pygments_lexer": "ipython3",
   "version": "3.6.13"
  }
 },
 "nbformat": 4,
 "nbformat_minor": 2
}
