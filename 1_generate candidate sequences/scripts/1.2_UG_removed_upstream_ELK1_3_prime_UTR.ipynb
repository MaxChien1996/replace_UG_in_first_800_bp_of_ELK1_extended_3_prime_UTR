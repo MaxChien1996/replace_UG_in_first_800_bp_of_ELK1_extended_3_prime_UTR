{
 "cells": [
  {
   "cell_type": "code",
   "execution_count": 5,
   "metadata": {},
   "outputs": [],
   "source": [
    "# use conda enviroment \"general\" to run this script\n",
    "\n",
    "from replace_TG_but_maintain_same_GC_content import * "
   ]
  },
  {
   "cell_type": "code",
   "execution_count": 6,
   "metadata": {},
   "outputs": [],
   "source": [
    "ELK1_3_prime_UTR_sequence_in_oPools_1 = 'CAAAAGACTCCTGGGCTCACCTGTTAGCGCTGGCCCAGCCCAGGCCTTGGGACCTGGGGGTTGGTGATTTGGGGGACAGTGCTACACTCGTCTCCACTGTTTGTTTTACTTCCCCAAAATGGACCTTTTTTTTTTCTAAAGAGTCCCAGAGAATGGGGAATTGTTCCTGTAAATATATATTTTTCAAAGTGA'\n",
    "Gibson_assembly_overlapping = 'CAAAAGACTCCTGGGCTCACCTGTTAGC'\n",
    "\n",
    "sequence_for_replacing = ELK1_3_prime_UTR_sequence_in_oPools_1.replace(Gibson_assembly_overlapping, '')\n",
    "\n",
    "n  = sequence_for_replacing.count('TG')"
   ]
  },
  {
   "cell_type": "code",
   "execution_count": 10,
   "metadata": {},
   "outputs": [
    {
     "name": "stdout",
     "output_type": "stream",
     "text": [
      "CAAAAGACTCCTGGGCTCACCTGTTAGCGCCAGCCCAGCCCAGGCCTCCGGACCCAGGGGTAAGCAATTCAGGGGACAGCCCTACACTCGTCTCCACTATTACTTTTACTTCCCCAAAAGCGACCTTTTTTTTTTCTAAAGAGTCCCAGAGAAACGGGAATAATTCCCATAAATATATATTTTTCAAAGCAA\n"
     ]
    }
   ],
   "source": [
    "replaced_sequence = replace_TG_but_maintain_same_GC_content(sequence_for_replacing, n)\n",
    "\n",
    "UG_removed_upstream_ELK1_3_prime_UTR = Gibson_assembly_overlapping + replaced_sequence\n",
    "\n",
    "print(UG_removed_upstream_ELK1_3_prime_UTR)"
   ]
  }
 ],
 "metadata": {
  "kernelspec": {
   "display_name": "general",
   "language": "python",
   "name": "python3"
  },
  "language_info": {
   "codemirror_mode": {
    "name": "ipython",
    "version": 3
   },
   "file_extension": ".py",
   "mimetype": "text/x-python",
   "name": "python",
   "nbconvert_exporter": "python",
   "pygments_lexer": "ipython3",
   "version": "3.6.13"
  }
 },
 "nbformat": 4,
 "nbformat_minor": 2
}
