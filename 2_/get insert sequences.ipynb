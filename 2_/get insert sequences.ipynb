{
 "cells": [
  {
   "cell_type": "code",
   "execution_count": 1,
   "metadata": {},
   "outputs": [],
   "source": [
    "# use conda enviroment \"general\" to run this script\n",
    "\n",
    "import dnaio\n",
    "from Bio.Seq import Seq\n",
    "import csv"
   ]
  },
  {
   "cell_type": "code",
   "execution_count": 2,
   "metadata": {},
   "outputs": [],
   "source": [
    "# extract sequences from FASTA files\n",
    "\n",
    "def read_fasta_file(dict, fasta_file):\n",
    "\n",
    "    with dnaio.open(fasta_file) as sequences:\n",
    "\n",
    "        for sequence in sequences:\n",
    "\n",
    "            portion_replicate = sequence.name\n",
    "            sequence = sequence.sequence\n",
    "\n",
    "            dict[portion_replicate] = {'sequence': sequence}"
   ]
  },
  {
   "cell_type": "code",
   "execution_count": 3,
   "metadata": {},
   "outputs": [],
   "source": [
    "oPools_1_fasta = \"oPools_1.fasta\"\n",
    "oPools_2_fasta = \"oPools_2.fasta\"\n",
    "\n",
    "\n",
    "\n",
    "dict_oPools_1 = {}\n",
    "dict_oPools_2 = {}\n",
    "\n",
    "read_fasta_file(dict_oPools_1, oPools_1_fasta)\n",
    "read_fasta_file(dict_oPools_2, oPools_2_fasta)\n",
    "\n",
    "#print(dict_oPools_1)\n",
    "#print(dict_oPools_2['25.0% - #1'])"
   ]
  },
  {
   "cell_type": "code",
   "execution_count": 4,
   "metadata": {},
   "outputs": [],
   "source": [
    "# the overlapping region between oPools_1 and oPools_2 is \"linker_6_7_two\"\n",
    "\n",
    "linker_6_7_two = 'AAACAATAGTAGGGACTGCATATCGGTA'"
   ]
  },
  {
   "cell_type": "code",
   "execution_count": 5,
   "metadata": {},
   "outputs": [],
   "source": [
    "dict_insert = {}\n",
    "\n",
    "for key_1, item_1 in dict_oPools_1.items():\n",
    "\n",
    "    for key_2, item_2 in dict_oPools_2.items():\n",
    "        \n",
    "        whole_sequence = whole_sequence = item_1['sequence'].replace(linker_6_7_two, '') + item_2['sequence']\n",
    "        # use .replace() to remove the overlapping region between oPools_1 and oPools_2\n",
    "        \n",
    "        dict_insert[key_1 + \"_\" + key_2] = {'sequence': whole_sequence}\n",
    "\n",
    "#print(dict_insert)"
   ]
  },
  {
   "cell_type": "code",
   "execution_count": 6,
   "metadata": {},
   "outputs": [],
   "source": [
    "def write_csv_file(file_path, dict):\n",
    "    \n",
    "    with open(file_path, 'w', newline='') as csvfile:\n",
    "        \n",
    "        writer = csv.writer(csvfile)\n",
    "        \n",
    "        writer.writerow(['potential combination', 'sequence']) # write the header\n",
    "        \n",
    "        for key, value in dict.items():\n",
    "            \n",
    "            writer.writerow([key, value['sequence']])"
   ]
  },
  {
   "cell_type": "code",
   "execution_count": 7,
   "metadata": {},
   "outputs": [],
   "source": [
    "write_csv_file('insert_sequences.csv', dict_insert)"
   ]
  }
 ],
 "metadata": {
  "kernelspec": {
   "display_name": "general",
   "language": "python",
   "name": "python3"
  },
  "language_info": {
   "codemirror_mode": {
    "name": "ipython",
    "version": 3
   },
   "file_extension": ".py",
   "mimetype": "text/x-python",
   "name": "python",
   "nbconvert_exporter": "python",
   "pygments_lexer": "ipython3",
   "version": "3.6.13"
  }
 },
 "nbformat": 4,
 "nbformat_minor": 2
}
