{
 "cells": [
  {
   "cell_type": "code",
   "execution_count": 1,
   "metadata": {},
   "outputs": [],
   "source": [
    "# use conda enviroment \"SpliceAI\" to run this script"
   ]
  },
  {
   "cell_type": "code",
   "execution_count": 2,
   "metadata": {},
   "outputs": [
    {
     "name": "stderr",
     "output_type": "stream",
     "text": [
      "2024-07-12 15:47:12.380921: I tensorflow/core/platform/cpu_feature_guard.cc:182] This TensorFlow binary is optimized to use available CPU instructions in performance-critical operations.\n",
      "To enable the following instructions: SSE4.1 SSE4.2, in other operations, rebuild TensorFlow with the appropriate compiler flags.\n"
     ]
    },
    {
     "name": "stdout",
     "output_type": "stream",
     "text": [
      "WARNING:tensorflow:No training configuration found in the save file, so the model was *not* compiled. Compile it manually.\n",
      "WARNING:tensorflow:No training configuration found in the save file, so the model was *not* compiled. Compile it manually.\n",
      "WARNING:tensorflow:No training configuration found in the save file, so the model was *not* compiled. Compile it manually.\n",
      "WARNING:tensorflow:No training configuration found in the save file, so the model was *not* compiled. Compile it manually.\n",
      "WARNING:tensorflow:No training configuration found in the save file, so the model was *not* compiled. Compile it manually.\n"
     ]
    }
   ],
   "source": [
    "from SpliceAI import *"
   ]
  },
  {
   "cell_type": "code",
   "execution_count": 3,
   "metadata": {},
   "outputs": [
    {
     "name": "stdout",
     "output_type": "stream",
     "text": [
      "1/1 [==============================] - 1s 1s/step\n",
      "1/1 [==============================] - 1s 924ms/step\n",
      "1/1 [==============================] - 1s 996ms/step\n",
      "1/1 [==============================] - 1s 894ms/step\n",
      "WARNING:tensorflow:5 out of the last 5 calls to <function Model.make_predict_function.<locals>.predict_function at 0x1fa35c310> triggered tf.function retracing. Tracing is expensive and the excessive number of tracings could be due to (1) creating @tf.function repeatedly in a loop, (2) passing tensors with different shapes, (3) passing Python objects instead of tensors. For (1), please define your @tf.function outside of the loop. For (2), @tf.function has reduce_retracing=True option that can avoid unnecessary retracing. For (3), please refer to https://www.tensorflow.org/guide/function#controlling_retracing and https://www.tensorflow.org/api_docs/python/tf/function for  more details.\n",
      "1/1 [==============================] - 1s 920ms/step\n"
     ]
    }
   ],
   "source": [
    "# sequence from barcoded_ELK1_3_prime_UTR_regulated_APA_reporter (No. 69)\n",
    "# mGreenLantern to SV40 poly(A) signal\n",
    "\n",
    "input_sequence = 'atggtgagcaagggcgaggagctgttcaccggggtggtgcccatcctggtcgagctggacggcgacgtaaacggccacaagttcagcgtccgcggcgagggcgagggcgatgccaccaacggcaagctgaccctgaagttcatctgcaccaccggcaagctgcccgtgccctggcccaccctcgtgaccaccttaggctacggcgtggcctgcttcgcccgctaccccgaccacatgaagcagcacgacttcttcaagtccgccatgcccgaaggctacgtccaggagcgcaccatctctttcaaggacgacggtacctacaagacccgcgccgaggtgaagttcgagggcgacaccctggtgaaccgcatcgtgctgaagggcatcgacttcaaggaggacggcaacatcctggggcacaagctggagtacaacttcaacagccacaaggtctatatcacggccgacaagcagaagaacggcatcaaggctaacttcaagacccgccacaacgttgaggacggcggcgtgcagctcgccgaccactaccagcagaacacccccatcggcgacggccccgtgctgctgcccgacaaccactacctgagccatcagtccaaactgagcaaagaccccaacgagaagcgcgatcacatggtcctgaaggagagggtgaccgccgccgggattacacatgacatggatgaactatataaataaNNNNNNNNNNNNNNNCTACTACCACCACCACCACCACCCCTTCTGGGGTCACTCCATCCATGCTCTCTCCAGCCAGCCATCTCAAGGAGAAACATAGTTCAACTGAAAGACTCATGCTCTGATTGTGGTGGGGTGGGGATCCTTGGGAAGAATTACTCCCAAGAGTAACTCTCATTATCTCCTCCACAGAAAACACACAGCTTCCACAACTTCTCTGTTTTCTGTCAGTCCCCCAGTGGCCGCCCTTACACGTCTCCTACTTCAATGGTAGGGGCGGTTTATTTATTTATTTTTTGAAGGCCACTGGGAGGAGCCTGACCTAACCTTTTAGGGTGGTTAGGACATCTCCCCCACCTCCCCACTTTTTTCCCCAAGACAAGACAATCGAGGTCTGGCTTGAGAACGACCTTTCTTTCTTTATTTCTCAGCCTGCCCTTGGGGAGATGAGGGAGCCCTGTCTGCGTTTTTGGATGTGAGTAGAAGAGTTAGTTTGTTTTGTTTTATTATTCCTGGCCATACTCAGGGGTCCAGGAAGAATTTGTACCATTTAATGGGTTGGGAGTCTTGGCCAAGGAAGAATCACACCCTTGGAATAGAAATTTCCACCTCCCCAACCTTTCTCTCAGACAGCTTATCCTTTTCAACCAACTTTTTGGCCAGGGAGGAATGTCCCTTTTGTTCTTCCCCCTGAGAAGCCATTCCTTTGTCTGCCAACCTCCCTGGGGTCCTGCCTGTTTCCTCCCAATGGAGGGTTTTTTTGGGGGGTGGTCCCCGTCTGGGGGGCCCCTCCAGCCAGTACTCCAGGTCTCCCTGTCTCTCCCCCGCTGCCATTTTGATAGTATAATCTATTTTTAAATGGGGCTTTTCAATAGGGGAGAGGGAGTCATCTCTTCCTATATTTGGTGGGGTGGGTGGGAAGGAAGGGATTTGGGGGGGAATCTTCCTGCCGCCTCCCCCACTCCAAGTGTTTATTTTTGATACCAAACATGAATTTTCAGTTCCCTCCCTCCCAGCCCCCCAATTTCCTGCGGGCGGGTACAAAGGACCCTTTCAATGTCCCTGGAGTTGGGAGGGAGGAATGGGGGACATAAAGCCTGTCCTGTCTCTATTCTAGGCAAGAGAGAGTGGGTTCAAAAGACTCCTGGGCTCACCTGTTAGCGCTGGCCCAGCCCAGGCCTTGGGACCTGGGGGTTGGTGATTTGGGGGACAGTGCTACACTCGTCTCCACTGTTTGTTTTACTTCCCCAAAATGGACCTTTTTTTTTTCTAAAGAGTCCCAGAGAATGGGGAATTGTTCCTGTAAATATATATTTTTCAAAGTGATGCTGGAGGCTGCTGGCACTTTTTCTCTGATGTTGTCAGGACTAGCTGAGCGTGGCACGCATGACTGTGTGTGGAGGGTGTGAGGCAGAGGTCGATTGTGAGAGAAACGGTGTGATGGCGTGTGTGAGAAACAATAGTAGGGACTGCATATCGGTAACCATGTGTGTGTCAGAGACGTGGAAAGCTGTGATTGTGTGTGAGAGTGTGCAGAAGTTGTGACCACAGACTTTTGATGGTGTGTCTATGTGGGAAATTGTGGCTGTGTTTCAGAAAATAACTGAGCCTGGATGAATAGTCAAGGTACTGTACAAGAACCTGTGATGGTATGCACAAAATAATGTCTACGAGAAGGGAACGGGGACTGCAGCCCTGTCACTGTTTGATGGCGAGCAAGACAGACTGGGTGACCAAAACCACATGTGAGAGACTACGTGGGCATGAAACTACAGTAGAGGTTGTCAGGGATTGTGGCAAAGATTGTGTAGGTGACAAACCTCACTGTAGGCGACTCAACGTTTGAGAAATAGATGATGTGCAAAACTGTTTACTTGAGGCTGTAGTGTCAGCTAAAGCTGTAAGACTGTATGGGTGCGAACTTGATTGTACGGGAGAGAATGGCTGGGAGACCAAACCAGTGACCGAGACCAAAGATACAAGAAGGTGCAATTGTGTGTACGAAAGCAGGCGTGAGAGACTGCAGCAAAGACTGAGAAAAACGAATGGCTGTGACTGGGAGAGTGTGACAGGCTGTGTGTGTGTGTGTGTACACCTGAAACTAGTTGCAAATCGATTTACCATTAaactggatccgcaggcctctgctagcttgactgactgagatacagcgtaccttcagctcacgcggccgctttctccgcgatccagacatgataagatacattgatgagtttggacaaaccaaaactagaatgcagtgaaaaaaatgccttatttgtgaaatttgtgatgctattgccttatttgtaaccattataagctgcaataaacaagtt'\n",
    "\n",
    "acceptor_prob, donor_prob, nt_pos = get_probs(input_sequence)\n",
    "\n",
    "#plot(nt_pos, acceptor_prob, donor_prob, trim_start=0, trim_end=0)\n",
    "\n",
    "\n",
    "\n",
    "dict = {}\n",
    "dict['original'] = {\"acceptor_prob\": acceptor_prob, \n",
    "                        \"donor_prob\": donor_prob, \n",
    "                        \"nt_pos\": nt_pos}"
   ]
  },
  {
   "cell_type": "code",
   "execution_count": 4,
   "metadata": {},
   "outputs": [],
   "source": [
    "import csv\n",
    "import gzip\n",
    "\n",
    "output_csv = '../2_SpliceAI prediction of original sequence/original_sequence_splicing_possibility.csv.gz'\n",
    "\n",
    "with gzip.open(output_csv, 'wt', newline='') as csvfile:\n",
    "    fieldnames = ['No', 'nt_pos', 'acceptor_prob', 'donor_prob']\n",
    "    writer = csv.DictWriter(csvfile, fieldnames=fieldnames)\n",
    "    \n",
    "    writer.writeheader()\n",
    "    \n",
    "    for key, items in dict.items():\n",
    "        acceptor_probabilities = items['acceptor_prob']\n",
    "        donor_probabilities = items['donor_prob']\n",
    "        nt_positions = items['nt_pos']\n",
    "        \n",
    "        combined_data = zip([key]*len(nt_positions), nt_positions, acceptor_probabilities, donor_probabilities)\n",
    "        # [key]*len(nt_positions) creates a list of the same length as nt_positions, with each element being the key\n",
    "        # bascially repeating the key for each nt_position, acceptor_probabilities, and donor_probabilities\n",
    "        # zip() combines the lists into a list of tuples\n",
    "        \n",
    "        for row in combined_data:\n",
    "            writer.writerow({'No': row[0], 'nt_pos': row[1], 'acceptor_prob': row[2], 'donor_prob': row[3]})"
   ]
  }
 ],
 "metadata": {
  "kernelspec": {
   "display_name": "SpliceAI",
   "language": "python",
   "name": "python3"
  },
  "language_info": {
   "codemirror_mode": {
    "name": "ipython",
    "version": 3
   },
   "file_extension": ".py",
   "mimetype": "text/x-python",
   "name": "python",
   "nbconvert_exporter": "python",
   "pygments_lexer": "ipython3",
   "version": "3.9.19"
  }
 },
 "nbformat": 4,
 "nbformat_minor": 2
}
