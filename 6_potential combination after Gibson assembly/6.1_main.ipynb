{
 "cells": [
  {
   "cell_type": "code",
   "execution_count": 82,
   "metadata": {},
   "outputs": [],
   "source": [
    "# use conda enviroment \"general\" to run this script\n",
    "\n",
    "import csv\n",
    "\n",
    "\n",
    "\n",
    "import sys\n",
    "\n",
    "# ask Python to look for other scripts but not in the default directory\n",
    "sys.path.append('../1_generate candidate sequences/scripts/') # The sys.path is a list that contains directories where Python looks for modules and packages\n",
    "from oPool_regions import *\n",
    "\n",
    "#print(sys.path)"
   ]
  },
  {
   "cell_type": "code",
   "execution_count": 83,
   "metadata": {},
   "outputs": [],
   "source": [
    "def extract_from_CSV_file(CSV_file):\n",
    "    \n",
    "    dict = {}\n",
    "    \n",
    "    with open(CSV_file, 'r') as file:\n",
    "    \n",
    "        csv_reader = csv.reader(file)\n",
    "        \n",
    "        # Skip the header row\n",
    "        next(csv_reader)\n",
    "        \n",
    "        for row in csv_reader:\n",
    "            \n",
    "            # the type of row is list\n",
    "            \n",
    "            # row[0], which is the first column of the CSV file, is the name of the oPool\n",
    "            # row[1], which is the second column of the CSV file, is the sequence of the oPool\n",
    "            # row[2], which is the third column of the CSV file, is the name of the sequence\n",
    "                    \n",
    "            dict[row[2]] = {'sequence': row[1]}\n",
    "    \n",
    "    return dict"
   ]
  },
  {
   "cell_type": "code",
   "execution_count": 95,
   "metadata": {},
   "outputs": [],
   "source": [
    "oPools_1 = extract_from_CSV_file('../5_remove UG in upstream ELK1 3 prime UTR/ELK1_oPools_1.csv')\n",
    "oPools_2 = extract_from_CSV_file('../5_remove UG in upstream ELK1 3 prime UTR/ELK1_oPools_2.csv')\n",
    "oPools_3 = extract_from_CSV_file('../5_remove UG in upstream ELK1 3 prime UTR/ELK1_oPools_3.csv')"
   ]
  },
  {
   "cell_type": "code",
   "execution_count": 96,
   "metadata": {},
   "outputs": [],
   "source": [
    "potential_combinations = {}\n",
    "\n",
    "\n",
    "\n",
    "for sequence_name_of_oPools_1, sequence_of_oPools_1 in oPools_1.items():\n",
    "    \n",
    "    sequence_of_oPools_1 = sequence_of_oPools_1['sequence']\n",
    "    \n",
    "    for sequence_name_of_oPools_2, sequence_of_oPools_2 in oPools_2.items():\n",
    "        \n",
    "        sequence_of_oPools_2 = sequence_of_oPools_2['sequence']\n",
    "        \n",
    "        for sequence_name_of_oPools_3, sequence_of_oPools_3 in oPools_3.items():\n",
    "            \n",
    "            sequence_of_oPools_3 = sequence_of_oPools_3['sequence']\n",
    "            \n",
    "            \n",
    "            \n",
    "            name = sequence_name_of_oPools_1 + \"---\" + sequence_name_of_oPools_2 + \"---\" + sequence_name_of_oPools_3\n",
    "            combination = sequence_of_oPools_1.replace(Gibson_assembly_overlapping_oPools_1_2, '') + sequence_of_oPools_2.replace(Gibson_assembly_overlapping_oPools_2_3, '') + sequence_of_oPools_3\n",
    "            \n",
    "            \n",
    "            \n",
    "            potential_combinations[name] = {'sequence': combination}"
   ]
  },
  {
   "cell_type": "code",
   "execution_count": 99,
   "metadata": {},
   "outputs": [],
   "source": [
    "def write_fasta_file(file_path, dict):\n",
    "    \n",
    "    with open(file_path, 'w') as fasta_file:\n",
    "        \n",
    "        for key, value in dict.items():\n",
    "        \n",
    "            fasta_file.write(f'>{key}\\n')\n",
    "            fasta_file.write(f'{value[\"sequence\"]}\\n')\n",
    "\n",
    "\n",
    "\n",
    "write_fasta_file('potential_combination_of_inserts.fasta', potential_combinations)"
   ]
  }
 ],
 "metadata": {
  "kernelspec": {
   "display_name": "general",
   "language": "python",
   "name": "python3"
  },
  "language_info": {
   "codemirror_mode": {
    "name": "ipython",
    "version": 3
   },
   "file_extension": ".py",
   "mimetype": "text/x-python",
   "name": "python",
   "nbconvert_exporter": "python",
   "pygments_lexer": "ipython3",
   "version": "3.6.13"
  }
 },
 "nbformat": 4,
 "nbformat_minor": 2
}
