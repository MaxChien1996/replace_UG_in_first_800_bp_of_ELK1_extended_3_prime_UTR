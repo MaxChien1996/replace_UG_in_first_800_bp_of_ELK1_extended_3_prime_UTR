{
 "cells": [
  {
   "cell_type": "code",
   "execution_count": 1,
   "metadata": {},
   "outputs": [],
   "source": [
    "# use conda enviroment \"general\" to run this script\n",
    "\n",
    "import dnaio"
   ]
  },
  {
   "cell_type": "code",
   "execution_count": 2,
   "metadata": {},
   "outputs": [],
   "source": [
    "def filter_FASTQ_file_and_creat_list(input_fastq):\n",
    "    \n",
    "    list = []\n",
    "    \n",
    "    i = 0\n",
    "    j = 0\n",
    "    \n",
    "    with dnaio.open(input_fastq) as input_fastq:\n",
    "        \n",
    "        for read in input_fastq:\n",
    "            \n",
    "            i += 1\n",
    "            \n",
    "            read_name = read.name.split(\" \")[0]\n",
    "            sequence = read.sequence\n",
    "            \n",
    "            read_length = len(sequence)\n",
    "            \n",
    "            if read_length > 9000 and read_length < 10000:\n",
    "                \n",
    "                list.append(read_name)\n",
    "                \n",
    "                j += 1\n",
    "    \n",
    "    \n",
    "    \n",
    "    print(\"Read counts: \", i)\n",
    "    print(\"Read counts of length between 9,000 ~ 10,000 bp: \", j)\n",
    "    \n",
    "    return list\n",
    "\n",
    "\n",
    "\n",
    "def write_new_FASTQ_file(input_fastq, output_fastq, list):\n",
    "    \n",
    "    with dnaio.open(input_fastq) as input_fastq, dnaio.open(output_fastq, mode='w') as output_fastq:\n",
    "        \n",
    "        for read in input_fastq:\n",
    "            \n",
    "            read_name = read.name.split(\" \")[0]\n",
    "            \n",
    "            if read_name in list:\n",
    "                \n",
    "                output_fastq.write(read) # write the read to the output FASTQ file\n",
    "\n",
    "\n",
    "\n",
    "def filter_FASTQ_file(input_fastq, output_fastq):\n",
    "    \n",
    "    list = filter_FASTQ_file_and_creat_list(input_fastq)\n",
    "    write_new_FASTQ_file(input_fastq, output_fastq, list)"
   ]
  },
  {
   "cell_type": "code",
   "execution_count": 3,
   "metadata": {},
   "outputs": [],
   "source": [
    "FASTQ_10_P_0 = '/Users/jeanz/Library/CloudStorage/OneDrive-UniversityCollegeLondon/Lab note/PhD/2024.09.16~18_Barcoding the ELK1 3’-UTR UG-replaced library/Full Circle Labs/#8138/079_10_P_0/079_10_P_0_raw.fastq.gz'\n",
    "FASTQ_10_P_1 = '/Users/jeanz/Library/CloudStorage/OneDrive-UniversityCollegeLondon/Lab note/PhD/2024.09.16~18_Barcoding the ELK1 3’-UTR UG-replaced library/Full Circle Labs/#8138/079_10_P_1/079_10_P_1_raw.fastq.gz'\n",
    "FASTQ_10_P_2 = '/Users/jeanz/Library/CloudStorage/OneDrive-UniversityCollegeLondon/Lab note/PhD/2024.09.16~18_Barcoding the ELK1 3’-UTR UG-replaced library/Full Circle Labs/#8237/079_10_P_2/079_10_P_2_raw.fastq.gz'\n",
    "\n",
    "filter_FASTQ_10_P_0 = 'filter_FASTQ_10_P_0.fastq.gz'\n",
    "filter_FASTQ_10_P_1 = 'filter_FASTQ_10_P_1.fastq.gz'\n",
    "filter_FASTQ_10_P_2 = 'filter_FASTQ_10_P_2.fastq.gz'"
   ]
  },
  {
   "cell_type": "code",
   "execution_count": 4,
   "metadata": {},
   "outputs": [
    {
     "name": "stdout",
     "output_type": "stream",
     "text": [
      "Read counts:  1465\n",
      "Read counts of length between 9,000 ~ 10,000 bp:  654\n"
     ]
    }
   ],
   "source": [
    "filter_FASTQ_file(FASTQ_10_P_0, filter_FASTQ_10_P_0)"
   ]
  },
  {
   "cell_type": "code",
   "execution_count": 5,
   "metadata": {},
   "outputs": [
    {
     "name": "stdout",
     "output_type": "stream",
     "text": [
      "Read counts:  714\n",
      "Read counts of length between 9,000 ~ 10,000 bp:  353\n"
     ]
    }
   ],
   "source": [
    "filter_FASTQ_file(FASTQ_10_P_1, filter_FASTQ_10_P_1)"
   ]
  },
  {
   "cell_type": "code",
   "execution_count": 6,
   "metadata": {},
   "outputs": [
    {
     "name": "stdout",
     "output_type": "stream",
     "text": [
      "Read counts:  6781\n",
      "Read counts of length between 9,000 ~ 10,000 bp:  2077\n"
     ]
    }
   ],
   "source": [
    "filter_FASTQ_file(FASTQ_10_P_2, filter_FASTQ_10_P_2)"
   ]
  }
 ],
 "metadata": {
  "kernelspec": {
   "display_name": "general",
   "language": "python",
   "name": "python3"
  },
  "language_info": {
   "codemirror_mode": {
    "name": "ipython",
    "version": 3
   },
   "file_extension": ".py",
   "mimetype": "text/x-python",
   "name": "python",
   "nbconvert_exporter": "python",
   "pygments_lexer": "ipython3",
   "version": "3.6.13"
  }
 },
 "nbformat": 4,
 "nbformat_minor": 2
}
