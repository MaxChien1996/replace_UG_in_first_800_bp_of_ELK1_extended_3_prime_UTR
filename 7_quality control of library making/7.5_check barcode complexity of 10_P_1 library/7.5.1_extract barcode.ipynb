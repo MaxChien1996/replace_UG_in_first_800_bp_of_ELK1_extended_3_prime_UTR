{
 "cells": [
  {
   "cell_type": "code",
   "execution_count": 16,
   "metadata": {},
   "outputs": [],
   "source": [
    "# use conda enviroment \"general\" to run this script\n",
    "\n",
    "import dnaio\n",
    "import csv"
   ]
  },
  {
   "cell_type": "code",
   "execution_count": 12,
   "metadata": {},
   "outputs": [],
   "source": [
    "def extract_barcode(FASTQ):\n",
    "    \n",
    "    with dnaio.open(FASTQ) as fastq:\n",
    "        \n",
    "        dict = {}\n",
    "        i = 0\n",
    "        \n",
    "        for read in fastq:\n",
    "            \n",
    "            i = i + 1\n",
    "            \n",
    "            barcode = 'NA'\n",
    "            \n",
    "            read_name = read.name.split(\" \")[0]\n",
    "            sequence = read.sequence\n",
    "            \n",
    "            barcode_start = sequence.find('ATAAGCCC')\n",
    "            barcode_end = sequence.find('GGGCCTAC')\n",
    "            \n",
    "            if barcode_start != -1 and barcode_end != -1:\n",
    "                \n",
    "                barcode = sequence[barcode_start+8:barcode_end]\n",
    "            \n",
    "            if barcode == 'NA':\n",
    "                \n",
    "                continue\n",
    "            \n",
    "            if len(barcode) != 15:\n",
    "                \n",
    "                continue\n",
    "            \n",
    "            dict[read_name] = {'barcode': barcode}\n",
    "        \n",
    "        print(\"total reads:\", i)\n",
    "    \n",
    "    return dict"
   ]
  },
  {
   "cell_type": "code",
   "execution_count": 13,
   "metadata": {},
   "outputs": [],
   "source": [
    "FASTQ_10_P_1 = '/Users/jeanz/Library/CloudStorage/OneDrive-UniversityCollegeLondon/Lab note/PhD/2024.09.16~18_Barcoding the ELK1 3’-UTR UG-replaced library/Full Circle Labs/#8138/079_10_P_1/079_10_P_1_raw.fastq.gz'\n",
    "FASTQ_10_P_2 = '/Users/jeanz/Library/CloudStorage/OneDrive-UniversityCollegeLondon/Lab note/PhD/2024.09.16~18_Barcoding the ELK1 3’-UTR UG-replaced library/Full Circle Labs/#8237/079_10_P_2/079_10_P_2_raw.fastq.gz'"
   ]
  },
  {
   "cell_type": "code",
   "execution_count": 14,
   "metadata": {},
   "outputs": [
    {
     "name": "stdout",
     "output_type": "stream",
     "text": [
      "total reads: 714\n"
     ]
    }
   ],
   "source": [
    "dict_10_P_1 = extract_barcode(FASTQ_10_P_1)"
   ]
  },
  {
   "cell_type": "code",
   "execution_count": 15,
   "metadata": {},
   "outputs": [
    {
     "name": "stdout",
     "output_type": "stream",
     "text": [
      "total reads: 6781\n"
     ]
    }
   ],
   "source": [
    "dict_10_P_2 = extract_barcode(FASTQ_10_P_2)"
   ]
  },
  {
   "cell_type": "code",
   "execution_count": 18,
   "metadata": {},
   "outputs": [],
   "source": [
    "def create_CSV_file(dict, path):\n",
    "    \n",
    "    with open(path, mode='w', newline='') as CSV_file:\n",
    "        \n",
    "        writer = csv.writer(CSV_file)\n",
    "        \n",
    "        writer.writerow(['read_name', 'barcode'])  # write header of the CSV file\n",
    "        \n",
    "        for key, item in dict.items():\n",
    "            \n",
    "            writer.writerow([key, item['barcode']])"
   ]
  },
  {
   "cell_type": "code",
   "execution_count": 19,
   "metadata": {},
   "outputs": [],
   "source": [
    "create_CSV_file(dict_10_P_1, '10_P_1_barcodes.csv')\n",
    "create_CSV_file(dict_10_P_2, '10_P_2_barcodes.csv')"
   ]
  }
 ],
 "metadata": {
  "kernelspec": {
   "display_name": "general",
   "language": "python",
   "name": "python3"
  },
  "language_info": {
   "codemirror_mode": {
    "name": "ipython",
    "version": 3
   },
   "file_extension": ".py",
   "mimetype": "text/x-python",
   "name": "python",
   "nbconvert_exporter": "python",
   "pygments_lexer": "ipython3",
   "version": "3.6.13"
  }
 },
 "nbformat": 4,
 "nbformat_minor": 2
}
