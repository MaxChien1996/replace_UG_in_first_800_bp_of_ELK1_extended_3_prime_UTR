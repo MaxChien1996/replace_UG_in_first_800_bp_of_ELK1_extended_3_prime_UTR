{
 "cells": [
  {
   "cell_type": "code",
   "execution_count": 1,
   "metadata": {},
   "outputs": [],
   "source": [
    "# use conda enviroment \"general\" to run this script\n",
    "\n",
    "from extract_barcodes_from_BAM_file import extract_barcodes_from_BAM_file\n",
    "import csv\n",
    "import gzip"
   ]
  },
  {
   "cell_type": "code",
   "execution_count": 2,
   "metadata": {},
   "outputs": [],
   "source": [
    "BAM_file = '/Volumes/lab-frattap/home/users/jeanz/Nanopore_sequencing/079_barcode_quality_check_before_we_go/aligned_BAM.sorted.bam'"
   ]
  },
  {
   "cell_type": "code",
   "execution_count": 3,
   "metadata": {},
   "outputs": [],
   "source": [
    "# 15-mer barcode start and end positions in the reference\n",
    "\n",
    "barcode_start_in_Ref = 756\n",
    "barcode_end_in_Ref = 770"
   ]
  },
  {
   "cell_type": "code",
   "execution_count": 4,
   "metadata": {},
   "outputs": [],
   "source": [
    "dict = extract_barcodes_from_BAM_file(BAM_file, barcode_start_in_Ref, barcode_end_in_Ref)"
   ]
  },
  {
   "cell_type": "code",
   "execution_count": 5,
   "metadata": {},
   "outputs": [],
   "source": [
    "with gzip.open('barcodes.csv.gz', 'wt', newline='') as CSV_file:\n",
    "    \n",
    "    fieldnames = ['query_name', 'barcode', 'qualities']\n",
    "    \n",
    "    writer = csv.DictWriter(CSV_file, fieldnames=fieldnames)\n",
    "\n",
    "    writer.writeheader()\n",
    "    \n",
    "    for key, value in dict.items():\n",
    "        \n",
    "        writer.writerow({'query_name': key, 'barcode': value['barcode'], 'qualities': value['qualities']})"
   ]
  }
 ],
 "metadata": {
  "kernelspec": {
   "display_name": "general",
   "language": "python",
   "name": "python3"
  },
  "language_info": {
   "codemirror_mode": {
    "name": "ipython",
    "version": 3
   },
   "file_extension": ".py",
   "mimetype": "text/x-python",
   "name": "python",
   "nbconvert_exporter": "python",
   "pygments_lexer": "ipython3",
   "version": "3.6.13"
  }
 },
 "nbformat": 4,
 "nbformat_minor": 2
}
