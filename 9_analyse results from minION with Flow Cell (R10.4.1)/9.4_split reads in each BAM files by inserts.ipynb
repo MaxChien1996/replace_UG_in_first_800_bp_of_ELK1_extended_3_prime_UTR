{
 "cells": [
  {
   "cell_type": "code",
   "execution_count": 1,
   "metadata": {},
   "outputs": [],
   "source": [
    "# use conda enviroment \"general\" to run this script\n",
    "\n",
    "import pysam\n",
    "import glob\n",
    "import csv\n",
    "import gzip\n",
    "import os\n",
    "\n",
    "from extract_barcode_from_each_read import extract_barcode_from_each_read\n",
    "from write_reads_from_BAM_file_to_FASTQ_gz_file import write_reads_from_BAM_file_to_FASTQ_gz_file"
   ]
  },
  {
   "cell_type": "code",
   "execution_count": 8,
   "metadata": {},
   "outputs": [],
   "source": [
    "file_directory = '/Volumes/lab-frattap/home/users/jeanz/Nanopore_sequencing/ELK1_UG_replaced_library_in_Dox_curve/'\n",
    "\n",
    "all_BAM_files = glob.glob(file_directory + '*.bam')"
   ]
  },
  {
   "cell_type": "code",
   "execution_count": 9,
   "metadata": {},
   "outputs": [],
   "source": [
    "# read the library of each barcode and its corresponding insert in\n",
    "barcode_insert_library = '/Users/jeanz/GitHub/replace_UG_in_first_800_bp_of_ELK1_extended_3_prime_UTR/8_get each insert corresponding barcodes by Nanopore sequencing 10_P_1 library/barcode_insert_library.csv.gz'\n",
    "\n",
    "barcode_dict = {}\n",
    "\n",
    "with gzip.open(barcode_insert_library, mode='rt') as CSV_file:\n",
    "    \n",
    "    csv_reader = csv.reader(CSV_file)\n",
    "    \n",
    "    next(csv_reader) # skip the header\n",
    "    \n",
    "    for row in csv_reader:\n",
    "        \n",
    "        # row[0]: rname\n",
    "        # row[1]: barcode\n",
    "        \n",
    "        read_counts = int(row[2]) # int(): convert string to integer\n",
    "        \n",
    "        if read_counts >= 1:\n",
    "            \n",
    "            barcode_dict[row[1]] = row[0]\n",
    "        \n",
    "#print(barcode_dict)"
   ]
  },
  {
   "cell_type": "code",
   "execution_count": 10,
   "metadata": {},
   "outputs": [],
   "source": [
    "# 15-mer barcode start and end positions in the reference\n",
    "barcode_start_in_Ref = 724\n",
    "barcode_end_in_Ref = 738"
   ]
  },
  {
   "cell_type": "code",
   "execution_count": 14,
   "metadata": {},
   "outputs": [],
   "source": [
    "def main(BAM_file):\n",
    "    \n",
    "    dict = {}\n",
    "    \n",
    "    with pysam.AlignmentFile(BAM_file) as bam:\n",
    "                \n",
    "        for read in bam:\n",
    "            \n",
    "            if read.is_supplementary or read.is_secondary or read.is_unmapped:\n",
    "                \n",
    "                continue\n",
    "            \n",
    "            #if read.mapping_quality < 20:\n",
    "                \n",
    "            #    continue\n",
    "            \n",
    "            \n",
    "            \n",
    "            query_name = read.query_name\n",
    "            query_sequence = read.query_sequence\n",
    "            alignment = read.get_aligned_pairs()\n",
    "            \n",
    "            \n",
    "            \n",
    "            barcode = extract_barcode_from_each_read(query_sequence, alignment, barcode_start_in_Ref, barcode_end_in_Ref)\n",
    "            \n",
    "            if barcode not in barcode_dict.keys():\n",
    "                \n",
    "                continue\n",
    "            \n",
    "            expected_reference = barcode_dict[barcode]\n",
    "            \n",
    "            \n",
    "            \n",
    "            if expected_reference not in dict.keys():\n",
    "                \n",
    "                dict[expected_reference] = [read]\n",
    "            \n",
    "            else:\n",
    "                \n",
    "                dict[expected_reference] += [read]\n",
    "\n",
    "\n",
    "\n",
    "\n",
    "    \n",
    "    for expected_reference, reads in dict.items():\n",
    "        \n",
    "        # extract the Nanopore barcode from the BAM file name\n",
    "        file_name = BAM_file.split('/')[-1]\n",
    "        Nanopore_barcode = file_name.split('.')[0]\n",
    "        \n",
    "        \n",
    "        \n",
    "        output_path = '/Volumes/lab-frattap/home/users/jeanz/Nanopore_sequencing/ELK1_UG_replaced_library_in_Dox_curve/splitted_FASTQ_files/'\n",
    "        os.makedirs(output_path, exist_ok=True)  # exist_ok=True will prevent errors if the directory already exists\n",
    "        \n",
    "        \n",
    "        \n",
    "        FASTQ_gz_file = output_path + Nanopore_barcode + '_____' + expected_reference + '.fastq.gz'\n",
    "        \n",
    "        write_reads_from_BAM_file_to_FASTQ_gz_file(FASTQ_gz_file, reads)"
   ]
  },
  {
   "cell_type": "code",
   "execution_count": 20,
   "metadata": {},
   "outputs": [
    {
     "name": "stdout",
     "output_type": "stream",
     "text": [
      "start processing /Volumes/lab-frattap/home/users/jeanz/Nanopore_sequencing/ELK1_UG_replaced_library_in_Dox_curve/barcode02.sorted.bam\n",
      "start processing /Volumes/lab-frattap/home/users/jeanz/Nanopore_sequencing/ELK1_UG_replaced_library_in_Dox_curve/barcode05.sorted.bam\n",
      "start processing /Volumes/lab-frattap/home/users/jeanz/Nanopore_sequencing/ELK1_UG_replaced_library_in_Dox_curve/barcode01.sorted.bam\n",
      "start processing /Volumes/lab-frattap/home/users/jeanz/Nanopore_sequencing/ELK1_UG_replaced_library_in_Dox_curve/barcode08.sorted.bam\n",
      "start processing /Volumes/lab-frattap/home/users/jeanz/Nanopore_sequencing/ELK1_UG_replaced_library_in_Dox_curve/barcode10.sorted.bam\n",
      "start processing /Volumes/lab-frattap/home/users/jeanz/Nanopore_sequencing/ELK1_UG_replaced_library_in_Dox_curve/barcode04.sorted.bam\n",
      "start processing /Volumes/lab-frattap/home/users/jeanz/Nanopore_sequencing/ELK1_UG_replaced_library_in_Dox_curve/barcode09.sorted.bam\n",
      "start processing /Volumes/lab-frattap/home/users/jeanz/Nanopore_sequencing/ELK1_UG_replaced_library_in_Dox_curve/barcode12.sorted.bam\n",
      "start processing /Volumes/lab-frattap/home/users/jeanz/Nanopore_sequencing/ELK1_UG_replaced_library_in_Dox_curve/barcode03.sorted.bam\n",
      "start processing /Volumes/lab-frattap/home/users/jeanz/Nanopore_sequencing/ELK1_UG_replaced_library_in_Dox_curve/barcode11.sorted.bam\n",
      "start processing /Volumes/lab-frattap/home/users/jeanz/Nanopore_sequencing/ELK1_UG_replaced_library_in_Dox_curve/barcode07.sorted.bam\n",
      "start processing /Volumes/lab-frattap/home/users/jeanz/Nanopore_sequencing/ELK1_UG_replaced_library_in_Dox_curve/barcode06.sorted.bam\n"
     ]
    }
   ],
   "source": [
    "for BAM_file in all_BAM_files:\n",
    "    \n",
    "    print (\"start processing\", BAM_file)\n",
    "    \n",
    "    main(BAM_file)"
   ]
  }
 ],
 "metadata": {
  "kernelspec": {
   "display_name": "general",
   "language": "python",
   "name": "python3"
  },
  "language_info": {
   "codemirror_mode": {
    "name": "ipython",
    "version": 3
   },
   "file_extension": ".py",
   "mimetype": "text/x-python",
   "name": "python",
   "nbconvert_exporter": "python",
   "pygments_lexer": "ipython3",
   "version": "3.6.13"
  }
 },
 "nbformat": 4,
 "nbformat_minor": 2
}
